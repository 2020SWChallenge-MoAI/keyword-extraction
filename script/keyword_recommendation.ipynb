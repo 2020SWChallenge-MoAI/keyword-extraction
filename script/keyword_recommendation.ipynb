{
 "metadata": {
  "language_info": {
   "codemirror_mode": {
    "name": "ipython",
    "version": 3
   },
   "file_extension": ".py",
   "mimetype": "text/x-python",
   "name": "python",
   "nbconvert_exporter": "python",
   "pygments_lexer": "ipython3",
   "version": "3.7.7-final"
  },
  "orig_nbformat": 2,
  "kernelspec": {
   "name": "python37764bitkeywordextractionconda9a564a1e11b944df9d9937b883966b57",
   "display_name": "Python 3.7.7 64-bit ('keyword-extraction': conda)"
  }
 },
 "nbformat": 4,
 "nbformat_minor": 2,
 "cells": [
  {
   "cell_type": "code",
   "execution_count": 2,
   "metadata": {},
   "outputs": [],
   "source": [
    "import pickle\n",
    "import os"
   ]
  },
  {
   "cell_type": "code",
   "execution_count": 4,
   "metadata": {},
   "outputs": [],
   "source": [
    "project_root = os.path.dirname(os.getcwd())\n",
    "\n",
    "documents_path = os.path.join(project_root, 'data/documents.pkl')\n",
    "vocabulary_path = os.path.join(project_root, 'data/vocab.pkl')"
   ]
  },
  {
   "cell_type": "code",
   "execution_count": 11,
   "metadata": {},
   "outputs": [],
   "source": [
    "with open(documents_path, 'rb') as f:\n",
    "    documents = pickle.load(f)\n",
    "with open(vocabulary_path, 'rb') as f:\n",
    "    vocab = pickle.load(f)"
   ]
  },
  {
   "cell_type": "code",
   "execution_count": 25,
   "metadata": {},
   "outputs": [],
   "source": [
    "def merge_word(elements):\n",
    "    return ' '.join([element.split('/')[0] for element in elements])"
   ]
  },
  {
   "cell_type": "code",
   "execution_count": 34,
   "metadata": {
    "tags": []
   },
   "outputs": [
    {
     "output_type": "stream",
     "name": "stdout",
     "text": "옛날 學校[학교] 이야기\n['학생', '학교', '교장', '선생님', '반', '년 급', '머리', '책상', '전문', '보성', '상투', '칠판', '대문', '갓', '소학교', '명', '교주', '유치', '큰길', '볼기', '수염', '어린애', '호령', '변괴', '통곡', '아들딸', '마당', '비', '놈', '종', '담뱃대', '공부', '평양 병정', '양지', '벼루', '문패', '댕기', '당장', '어른', '글', '조부', '아이 이그', '두루마기', '일', '걸상', '상투', '세력', '도망', '담', '대장', '모자', '위', '방', '붓', '앞', '채', '한문', '초등', '벌거숭이', '대청', '서당', '헌병대', '그놈', '선', '대로', '과자', '우물', '땡땡', '머니', '쯤', '때 때', '학', '굽', '테', '밑', '지금', '야단', '과자', '대문', '옆', '일', '집안', '난리', '연기', '을', '동산', '양반', '뺨', '길가', '사람 사람', '옛날', '모자', '번', '중', '헌병', '한길 가로', '팔자 걸음', '초립', '천자', '증조모 조모', '자루', '오줌', '오신 대', '안채', '샌님', '색동', '볼기짝', '눈 데', '군인', '도막', '먹', '바지', '삼촌', '서대문', '세배', '연필', '요란', '종아리', '책상', '얼굴', '손', '혼자', '입', '부인', '외', '사무실', '비단옷', '궐련', '고등', '마당', '분홍', '행진', '훈련', '전진', '연설', '군대', '남 집', '졸업', '문', '서울', '별안간', '코', '만치', '꼬리', '난', '단장', '스물', '이나', '하인', '하학', '몽', '대가리', '가위', '글방', '벼슬', '까닭', '투', '돌멩이', '골목', '때려', '살', '순사', '습', '내일', '오늘', '아저씨', '모가지', '노', '머리', '모아', '정도', '물', '터', '하인', '니다', '짐', '칠', '담배', '어머니', '만', '애', '밖', '부탁', '조금', '곳', '점', '날 날', '늙은이', '실', '길', '이야기', '자랑', '노릇', '이', '짓', '댁', '구멍', '지경', '판', '법', '편', '허리', '안', '가지', '자아', '사람', '뒤', '절', '상', '후', '시작', '잘못', '황 사랑', '홍수', '호사', '호령호령', '형세', '현황', '허리띠', '학생', '학부형 대개', '하늘 천', '편 쌈', '판 소리', '통 잠', '코딱지 것', '추상', '총기', '집안 에소', '지옥 속', '증원 냇물', '중화 씨', '주 개', '종이 법', '졸업장', '제구', '재촉 수', '장옷', '자정 밤중', '입술 여러분', '인솔', '이전', '은 김', '우주', '옥색', '오 넋두리', '여자 세간', '에다', '어머니 아주머니', '양력', '안고 문밖', '아버지 아들', '싸움 천자문', '신 동리', '손님 리', '소학교', '소학', '서서 발돋움', '새끼 모래', '상전이', '살 성', '산발', '분필 가루', '봉지 물론', '봄 천자문', '보르', '별것', '변소 똥', '백주', '문제 세상', '문안', '문간 쪽', '무어 들창', '몸 시계', '먹이 나중', '말 주시', '만일 외지', '마중', '마음 부족', '듯이 분풀이', '들 도', '더미', '대신 데리', '깐', '김효남', '기질', '기계로', '글자 자', '근처 동네', '극성 발광', '규율', '경구', '거지 바위', '강제', '간직', '가외', '가와', '가주', '감 술', '감과', '갑 손가락', '건 후에', '경례', '계몽편', '교주', '구름다리', '귀밑머리', '기업', '꼬락서니', '대가리 두리', '동산', '동원령', '듯 대체', '마치 고야', '망건', '못 신고', '반', '반은', '발 궁리', '발버둥', '보기 정성', '불 노한', '뿐 빨래', '사립', '사회', '생각 요새', '소동 그때', '숭상', '시찰', '식혜', '아침 시간', '애비', '용서 체', '이끼', '일시 문턱', '장 연필', '전장 장군', '정문', '조끼', '지게 에 산', '한국', '효경', '이름', '인제', '호주머니', '한길로', '퍼다', '철도', '젖먹이', '장과', '입학', '이슬비', '이름', '애걸복걸', '앞자리', '베인', '먹이', '매사', '권고', '구식', '과세', '교장', '군인', '기와집', '대장', '동전 푼', '만도', '봄날 하루', '와르르', '이담', '지도', '효 남이', '분', '큰일', '옷', '한복판', '피난', '책보', '짚신', '정월', '인력거', '앞집', '수건', '몸부림', '곤두박질', '고함', '단', '뒷간', '아침밥', '일반', '중학교', '층계']\n"
    }
   ],
   "source": [
    "idx = 5\n",
    "\n",
    "keywords = []\n",
    "included = {}\n",
    "for keyword in documents[idx]['keywords']:\n",
    "    elements = keyword[0].split(' ')\n",
    "    \n",
    "    duplicated = False\n",
    "    for element in elements:\n",
    "        if element in included:\n",
    "            duplicated = True\n",
    "            break\n",
    "    \n",
    "    if not duplicated:\n",
    "        keywords.append(merge_word(elements))\n",
    "        for element in elements:\n",
    "            included[element] = True\n",
    "\n",
    "print(documents[idx]['title'])\n",
    "print(keywords)\n",
    "            "
   ]
  },
  {
   "cell_type": "code",
   "execution_count": null,
   "metadata": {},
   "outputs": [],
   "source": []
  }
 ]
}