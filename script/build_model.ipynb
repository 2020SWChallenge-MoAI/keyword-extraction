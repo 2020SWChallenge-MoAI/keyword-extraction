{
 "metadata": {
  "language_info": {
   "codemirror_mode": {
    "name": "ipython",
    "version": 3
   },
   "file_extension": ".py",
   "mimetype": "text/x-python",
   "name": "python",
   "nbconvert_exporter": "python",
   "pygments_lexer": "ipython3",
   "version": "3.7.7-final"
  },
  "orig_nbformat": 2,
  "kernelspec": {
   "name": "python37764bitkeywordextractionconda9a564a1e11b944df9d9937b883966b57",
   "display_name": "Python 3.7.7 64-bit ('keyword-extraction': conda)"
  }
 },
 "nbformat": 4,
 "nbformat_minor": 2,
 "cells": [
  {
   "cell_type": "code",
   "execution_count": 1,
   "metadata": {},
   "outputs": [],
   "source": [
    "import os\n",
    "\n",
    "from keyext import KeywordExtractor\n",
    "#from keyext.context import NerContext\n",
    "\n",
    "import logging\n",
    "logging.basicConfig(level=logging.INFO)"
   ]
  },
  {
   "cell_type": "code",
   "execution_count": 2,
   "metadata": {},
   "outputs": [],
   "source": [
    "project_root = os.path.dirname(os.getcwd())\n",
    "\n",
    "input_dir = os.path.join(project_root, 'book/woongjin', 'raw')\n",
    "model_path = os.path.join(project_root, 'model', 'model_130_nonversioned_nocontext')"
   ]
  },
  {
   "cell_type": "code",
   "execution_count": 3,
   "metadata": {},
   "outputs": [],
   "source": [
    "documents = []\n",
    "for filename in [f for f in os.listdir(input_dir) if int(f.split('.')[0]) < 1000]:\n",
    "    with open(os.path.join(input_dir, filename)) as f:\n",
    "        raw_document = f.readlines()\n",
    "        raw_document = [s for s in raw_document if len(s.strip()) > 0]\n",
    "        \n",
    "        documents.append((int(os.path.splitext(filename)[0]), raw_document))"
   ]
  },
  {
   "cell_type": "code",
   "execution_count": 4,
   "metadata": {
    "tags": []
   },
   "outputs": [
    {
     "output_type": "stream",
     "name": "stderr",
     "text": [
      "INFO:keyext.extract:start document converting...\n",
      "INFO:keyext.extract:document 0 converting complete\n",
      "INFO:keyext.extract:document 1 converting complete\n",
      "INFO:keyext.extract:document 10 converting complete\n",
      "INFO:keyext.extract:document 11 converting complete\n",
      "INFO:keyext.extract:document 12 converting complete\n",
      "INFO:keyext.extract:document 13 converting complete\n",
      "INFO:keyext.extract:document 14 converting complete\n",
      "INFO:keyext.extract:document 15 converting complete\n",
      "INFO:keyext.extract:document 16 converting complete\n",
      "INFO:keyext.extract:document 17 converting complete\n",
      "INFO:keyext.extract:document 18 converting complete\n",
      "INFO:keyext.extract:document 19 converting complete\n",
      "INFO:keyext.extract:document 2 converting complete\n",
      "INFO:keyext.extract:document 20 converting complete\n",
      "INFO:keyext.extract:document 21 converting complete\n",
      "INFO:keyext.extract:document 22 converting complete\n",
      "INFO:keyext.extract:document 23 converting complete\n",
      "INFO:keyext.extract:document 24 converting complete\n",
      "INFO:keyext.extract:document 25 converting complete\n",
      "INFO:keyext.extract:document 26 converting complete\n",
      "INFO:keyext.extract:document 27 converting complete\n",
      "INFO:keyext.extract:document 28 converting complete\n",
      "INFO:keyext.extract:document 29 converting complete\n",
      "INFO:keyext.extract:document 3 converting complete\n",
      "INFO:keyext.extract:document 30 converting complete\n",
      "INFO:keyext.extract:document 31 converting complete\n",
      "INFO:keyext.extract:document 32 converting complete\n",
      "INFO:keyext.extract:document 33 converting complete\n",
      "INFO:keyext.extract:document 34 converting complete\n",
      "INFO:keyext.extract:document 35 converting complete\n",
      "INFO:keyext.extract:document 36 converting complete\n",
      "INFO:keyext.extract:document 37 converting complete\n",
      "INFO:keyext.extract:document 38 converting complete\n",
      "INFO:keyext.extract:document 39 converting complete\n",
      "INFO:keyext.extract:document 4 converting complete\n",
      "INFO:keyext.extract:document 40 converting complete\n",
      "INFO:keyext.extract:document 41 converting complete\n",
      "INFO:keyext.extract:document 42 converting complete\n",
      "INFO:keyext.extract:document 43 converting complete\n",
      "INFO:keyext.extract:document 44 converting complete\n",
      "INFO:keyext.extract:document 45 converting complete\n",
      "INFO:keyext.extract:document 46 converting complete\n",
      "INFO:keyext.extract:document 47 converting complete\n",
      "INFO:keyext.extract:document 48 converting complete\n",
      "INFO:keyext.extract:document 49 converting complete\n",
      "INFO:keyext.extract:document 5 converting complete\n",
      "INFO:keyext.extract:document 50 converting complete\n",
      "INFO:keyext.extract:document 51 converting complete\n",
      "INFO:keyext.extract:document 52 converting complete\n",
      "INFO:keyext.extract:document 53 converting complete\n",
      "INFO:keyext.extract:document 54 converting complete\n",
      "INFO:keyext.extract:document 55 converting complete\n",
      "INFO:keyext.extract:document 56 converting complete\n",
      "INFO:keyext.extract:document 57 converting complete\n",
      "INFO:keyext.extract:document 58 converting complete\n",
      "INFO:keyext.extract:document 59 converting complete\n",
      "INFO:keyext.extract:document 6 converting complete\n",
      "INFO:keyext.extract:document 60 converting complete\n",
      "INFO:keyext.extract:document 61 converting complete\n",
      "INFO:keyext.extract:document 62 converting complete\n",
      "INFO:keyext.extract:document 63 converting complete\n",
      "INFO:keyext.extract:document 64 converting complete\n",
      "INFO:keyext.extract:document 65 converting complete\n",
      "INFO:keyext.extract:document 66 converting complete\n",
      "INFO:keyext.extract:document 67 converting complete\n",
      "INFO:keyext.extract:document 68 converting complete\n",
      "INFO:keyext.extract:document 69 converting complete\n",
      "INFO:keyext.extract:document 7 converting complete\n",
      "INFO:keyext.extract:document 70 converting complete\n",
      "INFO:keyext.extract:document 71 converting complete\n",
      "INFO:keyext.extract:document 72 converting complete\n",
      "INFO:keyext.extract:document 73 converting complete\n",
      "INFO:keyext.extract:document 74 converting complete\n",
      "INFO:keyext.extract:document 75 converting complete\n",
      "INFO:keyext.extract:document 76 converting complete\n",
      "INFO:keyext.extract:document 77 converting complete\n",
      "INFO:keyext.extract:document 78 converting complete\n",
      "INFO:keyext.extract:document 79 converting complete\n",
      "INFO:keyext.extract:document 8 converting complete\n",
      "INFO:keyext.extract:document 80 converting complete\n",
      "INFO:keyext.extract:document 81 converting complete\n",
      "INFO:keyext.extract:document 82 converting complete\n",
      "INFO:keyext.extract:document 83 converting complete\n",
      "INFO:keyext.extract:document 84 converting complete\n",
      "INFO:keyext.extract:document 85 converting complete\n",
      "INFO:keyext.extract:document 86 converting complete\n",
      "INFO:keyext.extract:document 87 converting complete\n",
      "INFO:keyext.extract:document 88 converting complete\n",
      "INFO:keyext.extract:document 89 converting complete\n",
      "INFO:keyext.extract:document 9 converting complete\n",
      "INFO:keyext.extract:document converting complete\n",
      "INFO:keyext.context.tfidf:start count vectorization and tfidf transformation. this may take a while...\n",
      "INFO:keyext.context.tfidf:count vectorization and tfidf transformation complete\n",
      "INFO:keyext.context.tfidf:vocab generation complete\n",
      "INFO:keyext.extract:tf-idf context build complete\n"
     ]
    }
   ],
   "source": [
    "extractor = KeywordExtractor()\n",
    "extractor.build(documents)"
   ]
  },
  {
   "cell_type": "code",
   "execution_count": 5,
   "metadata": {
    "tags": []
   },
   "outputs": [
    {
     "output_type": "stream",
     "name": "stdout",
     "text": [
      "[{'word': '강림', 'weight': 0.38968704852371805}, {'word': '염라왕', 'weight': 0.2005407033338432}, {'word': '저승', 'weight': 0.08262822861935697}, {'word': '사또', 'weight': 0.07381793167529774}, {'word': '차사', 'weight': 0.058438204912017226}, {'word': '형제', 'weight': 0.057056440689416225}, {'word': '양각', 'weight': 0.05426404741830171}, {'word': '떡', 'weight': 0.04494375921597914}, {'word': '안주인', 'weight': 0.029625331174317746}, {'word': '이승', 'weight': 0.02926499297285084}, {'word': '양상', 'weight': 0.027346459545524074}, {'word': '조왕할머니', 'weight': 0.027346459545524074}, {'word': '절', 'weight': 0.026832384217955613}, {'word': '아들', 'weight': 0.025151964232526042}, {'word': '숯', 'weight': 0.02286968644463717}, {'word': '갈림길', 'weight': 0.022788716287936727}, {'word': '낭군', 'weight': 0.022788716287936727}, {'word': '동방삭', 'weight': 0.022788716287936727}, {'word': '문전할아버지', 'weight': 0.022788716287936727}, {'word': '스님', 'weight': 0.021921774939829403}]\n"
     ]
    }
   ],
   "source": [
    "print(extractor.recommend(3, num=20))"
   ]
  },
  {
   "cell_type": "code",
   "execution_count": 6,
   "metadata": {},
   "outputs": [],
   "source": [
    "sentences = []\n",
    "with open('../book/woongjin/raw/3.txt') as f:\n",
    "    sentences = f.readlines()\n",
    "\n",
    "#print(extractor.recommend_from_sentences(sentences, num=20, queries=['염라왕']))\n"
   ]
  },
  {
   "cell_type": "code",
   "execution_count": 7,
   "metadata": {},
   "outputs": [],
   "source": [
    "extractor.save(model_path)"
   ]
  }
 ]
}