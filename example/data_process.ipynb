{
 "metadata": {
  "language_info": {
   "codemirror_mode": {
    "name": "ipython",
    "version": 3
   },
   "file_extension": ".py",
   "mimetype": "text/x-python",
   "name": "python",
   "nbconvert_exporter": "python",
   "pygments_lexer": "ipython3",
   "version": "3.7.7-final"
  },
  "orig_nbformat": 2,
  "kernelspec": {
   "name": "python37764bitkeywordextractionconda9a564a1e11b944df9d9937b883966b57",
   "display_name": "Python 3.7.7 64-bit ('keyword-extraction': conda)"
  }
 },
 "nbformat": 4,
 "nbformat_minor": 2,
 "cells": [
  {
   "cell_type": "code",
   "execution_count": 2,
   "metadata": {},
   "outputs": [],
   "source": [
    "import os\n",
    "import re\n",
    "\n",
    "from krwordrank.hangle import normalize"
   ]
  },
  {
   "cell_type": "code",
   "execution_count": 3,
   "metadata": {},
   "outputs": [],
   "source": [
    "project_root = os.path.dirname(os.getcwd())\n",
    "input_dir = os.path.join(project_root, 'data/raw')\n",
    "output_dir = os.path.join(project_root, 'data/processed')\n",
    "\n",
    "if not os.path.exists(output_dir):\n",
    "    os.mkdir(output_dir)"
   ]
  },
  {
   "cell_type": "code",
   "execution_count": 4,
   "metadata": {
    "tags": []
   },
   "outputs": [],
   "source": [
    "for filename in os.listdir(input_dir):\n",
    "    title = ''\n",
    "    str = ''\n",
    "    with open(os.path.join(input_dir, filename)) as f:\n",
    "        title = f.readline().strip()\n",
    "\n",
    "        #print(f'title: {title}\\n')\n",
    "        #print(f'filename: {filename}\\n')\n",
    "\n",
    "        # join all lines\n",
    "        str = ''.join(line.strip() for line in f)\n",
    "        \n",
    "        # regularize quotation mark\n",
    "        str = re.sub('[‘’]', \"'\", str)\n",
    "        str = re.sub('[“”]', '\"', str)\n",
    "\n",
    "        # remove period in quote\n",
    "        quote = False\n",
    "        parenthesis = False\n",
    "        parenthesis_open = '〈<⟪[(『'\n",
    "        parenthesis_close = '〉>⟫])』'\n",
    "        cur_parenthesis = ''\n",
    "        new_str = ''\n",
    "        for c in str:\n",
    "            if re.match('[\\\"\\']', c):\n",
    "                quote = not quote\n",
    "            if re.match('[〈\\<⟪\\[\\(『]', c) and cur_parenthesis == '':\n",
    "                parenthesis = True\n",
    "                cur_parenthesis = c\n",
    "                #print('parenthesis on\\n')\n",
    "                continue\n",
    "            if re.match('[〉\\>⟫\\]\\)』]', c) and parenthesis_open.find(cur_parenthesis) == parenthesis_close.find(c):\n",
    "                parenthesis = False\n",
    "                cur_parenthesis = ''\n",
    "                #print('\\nparenthesis off\\n')\n",
    "                continue\n",
    "            if not parenthesis and (not quote or (quote and not re.match('[\\.\\?\\!]', c))):\n",
    "                new_str += c\n",
    "            #if parenthesis:\n",
    "                #print(c, end='')\n",
    "        str = new_str\n",
    "        \n",
    "        # split sentences\n",
    "        sents = [normalize(sent) for sent in str.split('.')]\n",
    "        sents = [sent for sent in sents if sent != '']\n",
    "        str = '\\n'.join(sents)\n",
    "\n",
    "    with open(os.path.join(output_dir, filename), mode = 'w') as f:\n",
    "        f.write(f'@title\\n{title}\\n')\n",
    "        f.write(f'@content\\n{str}')"
   ]
  }
 ]
}