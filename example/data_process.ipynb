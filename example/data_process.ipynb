{
 "metadata": {
  "language_info": {
   "codemirror_mode": {
    "name": "ipython",
    "version": 3
   },
   "file_extension": ".py",
   "mimetype": "text/x-python",
   "name": "python",
   "nbconvert_exporter": "python",
   "pygments_lexer": "ipython3",
   "version": 3
  },
  "orig_nbformat": 2,
  "kernelspec": {
   "name": "python_defaultSpec_1594982706625",
   "display_name": "Python 3.8.2 64-bit ('.venv': venv)"
  }
 },
 "nbformat": 4,
 "nbformat_minor": 2,
 "cells": [
  {
   "cell_type": "code",
   "execution_count": 1,
   "metadata": {},
   "outputs": [],
   "source": [
    "import os\n",
    "import re"
   ]
  },
  {
   "cell_type": "code",
   "execution_count": null,
   "metadata": {},
   "outputs": [],
   "source": [
    "project_root = os.path.dirname(os.getcwd())\n",
    "input_dir = os.path.join(project_root, 'data/raw')\n",
    "output_dir = os.path.join(project_root, '/data/processed')\n",
    "\n",
    "if not os.path.exists(output_dir):\n",
    "    os.mkdir(output_dir)"
   ]
  },
  {
   "cell_type": "code",
   "execution_count": 2,
   "metadata": {
    "tags": []
   },
   "outputs": [],
   "source": [
    "for filename in os.listdir(input_dir):\n",
    "    title = ''\n",
    "    str = ''\n",
    "    with open(os.path.join(input_dir, filename)) as f:\n",
    "        title = f.readline().strip()\n",
    "\n",
    "        # join all lines\n",
    "        str = ''.join(line.strip() for line in f)\n",
    "\n",
    "        # remove ending\n",
    "        str = re.sub('[〈<⟪].*[〉>⟫]$', '', str)\n",
    "        str = re.sub('-.*\\.$', '', str)\n",
    "        \n",
    "        # regularize quotation mark\n",
    "        str = re.sub('[‘’]', \"'\", str)\n",
    "        str = re.sub('[“”]', '\"', str)\n",
    "\n",
    "        # append period\n",
    "        if not str.endswith('.'):\n",
    "            str += '.'\n",
    "            \n",
    "    with open(os.path.join(output_dir, filename), mode = 'w') as f:\n",
    "        f.write(f'@title\\n{title}\\n')\n",
    "        f.write(f'@content\\n{str}')"
   ]
  },
  {
   "cell_type": "code",
   "execution_count": null,
   "metadata": {},
   "outputs": [],
   "source": []
  }
 ]
}