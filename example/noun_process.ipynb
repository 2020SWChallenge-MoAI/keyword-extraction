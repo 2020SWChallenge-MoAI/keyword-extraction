{
 "metadata": {
  "language_info": {
   "codemirror_mode": {
    "name": "ipython",
    "version": 3
   },
   "file_extension": ".py",
   "mimetype": "text/x-python",
   "name": "python",
   "nbconvert_exporter": "python",
   "pygments_lexer": "ipython3",
   "version": 3
  },
  "orig_nbformat": 2,
  "kernelspec": {
   "name": "python_defaultSpec_1595044203959",
   "display_name": "Python 3.8.2 64-bit ('.venv': venv)"
  }
 },
 "nbformat": 4,
 "nbformat_minor": 2,
 "cells": [
  {
   "cell_type": "code",
   "execution_count": 5,
   "metadata": {},
   "outputs": [],
   "source": [
    "import os\n",
    "import pickle\n",
    "\n",
    "from konlpy.tag import Okt"
   ]
  },
  {
   "cell_type": "code",
   "execution_count": 6,
   "metadata": {},
   "outputs": [],
   "source": [
    "project_root = os.path.dirname(os.getcwd())\n",
    "input_dir = os.path.join(project_root, 'data', 'processed')\n",
    "output_dir = os.path.join(project_root, 'data')\n",
    "\n",
    "if not os.path.exists(output_dir):\n",
    "    os.mkdir(output_dir)"
   ]
  },
  {
   "cell_type": "code",
   "execution_count": 7,
   "metadata": {},
   "outputs": [],
   "source": [
    "tokenizer = Okt()"
   ]
  },
  {
   "cell_type": "code",
   "execution_count": 8,
   "metadata": {
    "tags": []
   },
   "outputs": [],
   "source": [
    "documents = []\n",
    "for filename in os.listdir(input_dir):\n",
    "    with open(os.path.join(input_dir, filename)) as f:\n",
    "        assert f.readline() == '@title\\n'\n",
    "\n",
    "        title = f.readline().strip()\n",
    "\n",
    "        assert f.readline() == '@content\\n'\n",
    "        content = f.read()\n",
    "\n",
    "        nouns = tokenizer.nouns(content)\n",
    "        documents.append({'title': title, 'nouns': nouns, 'content': content})\n",
    "with open(os.path.join(output_dir, 'nouns.pkl'), 'wb') as f:\n",
    "    pickle.dump(documents, f)"
   ]
  }
 ]
}